{
 "cells": [
  {
   "cell_type": "code",
   "execution_count": 1,
   "metadata": {},
   "outputs": [],
   "source": [
    "import os\n",
    "import gdal\n",
    "import ogr, osr"
   ]
  },
  {
   "cell_type": "code",
   "execution_count": 2,
   "metadata": {},
   "outputs": [],
   "source": [
    "def UTM47N_to_WebMercator(geom):\n",
    "    srcSR = osr.SpatialReference()\n",
    "    srcSR.ImportFromEPSG(32647)          #UTM WGS84 Zone 47N\n",
    "    destSR = osr.SpatialReference()\n",
    "    destSR.ImportFromEPSG(3857)          #WGS84 Web Mercator (Auxiliary Sphere)\n",
    "    coorTrans = osr.CoordinateTransformation(srcSR, destSR)\n",
    "    new_geom = geom.Clone()\n",
    "    new_geom.Transform(coorTrans)\n",
    "\n",
    "    return new_geom"
   ]
  },
  {
   "cell_type": "markdown",
   "metadata": {},
   "source": [
    "## Step 1: Assgin Boundary (x_min, y_min, x_max, y_max)\n",
    "### Projection: UTM WGS84 Zone 47N"
   ]
  },
  {
   "cell_type": "code",
   "execution_count": 3,
   "metadata": {},
   "outputs": [
    {
     "name": "stdout",
     "output_type": "stream",
     "text": [
      "Point 1: POINT (668000 1517000 0)\n",
      "Point 2: POINT (668500 1517500 0)\n",
      "Boundary: (668000.0, 1517000.0, 668500.0, 1517500.0)\n"
     ]
    }
   ],
   "source": [
    "x_min = 668000\n",
    "y_min = 1517000\n",
    "x_max = 668500\n",
    "y_max = 1517500\n",
    "\n",
    "#Point 1: x_min, y_min\n",
    "pt1 = ogr.Geometry(ogr.wkbPoint)\n",
    "pt1.AddPoint(x_min, y_min)\n",
    "\n",
    "#Point 2: x_max, y_max\n",
    "pt2 = ogr.Geometry(ogr.wkbPoint)\n",
    "pt2.AddPoint(x_max, y_max)\n",
    "\n",
    "UTM_Bound = (pt1.GetX(), pt1.GetY(), pt2.GetX(), pt2.GetY())\n",
    "\n",
    "print('Point 1:', pt1.ExportToWkt())\n",
    "print('Point 2:', pt2.ExportToWkt())\n",
    "print('Boundary:', UTM_Bound)"
   ]
  },
  {
   "cell_type": "markdown",
   "metadata": {},
   "source": [
    "## Step 2: Projection to Web Mercator"
   ]
  },
  {
   "cell_type": "code",
   "execution_count": 4,
   "metadata": {},
   "outputs": [
    {
     "name": "stdout",
     "output_type": "stream",
     "text": [
      "New Point 1: POINT (11193579.7270649 1541801.18348661 0)\n",
      "New Point 2: POINT (11194097.6451805 1542315.72309877 0)\n",
      "Boundary: (11193579.727064876, 1541801.1834866055, 11194097.645180535, 1542315.7230987716)\n"
     ]
    }
   ],
   "source": [
    "#Projection to \n",
    "new_pt1 = UTM47N_to_WebMercator(pt1)\n",
    "new_pt2 = UTM47N_to_WebMercator(pt2)\n",
    "\n",
    "Web_Bound = (new_pt1.GetX(), new_pt1.GetY(), new_pt2.GetX(), new_pt2.GetY())\n",
    "\n",
    "print('New Point 1:', new_pt1.ExportToWkt())\n",
    "print('New Point 2:', new_pt2.ExportToWkt())\n",
    "print('Boundary:', Web_Bound)"
   ]
  },
  {
   "cell_type": "markdown",
   "metadata": {},
   "source": [
    "## Step 3: Extract Google Satellite Images with Boundary\n",
    "### Projection: WGS84 Web Mercator"
   ]
  },
  {
   "cell_type": "code",
   "execution_count": 5,
   "metadata": {},
   "outputs": [],
   "source": [
    "#Source_WMS = 'Google_Satellite_WMS_Tile.xml'\n",
    "Source_WMS = 'Google_Maps_WMS_Tile.xml'\n",
    "\n",
    "Resolution = 0.25\n",
    "\n",
    "x_min = Web_Bound[0] - 10.0\n",
    "y_min = Web_Bound[1] - 10.0\n",
    "x_max = Web_Bound[2] + 10.0\n",
    "y_max = Web_Bound[3] + 10.0\n",
    "    \n",
    "gdal.SetConfigOption('GDAL_HTTP_UNSAFESSL','YES')\n",
    "OutRS1 = gdal.Warp('GM.tif', Source_WMS, format = 'GTiff',\n",
    "                   outputBounds = [x_min, y_min, x_max, y_max],\n",
    "                   xRes = Resolution, yRes = Resolution)\n"
   ]
  },
  {
   "cell_type": "markdown",
   "metadata": {},
   "source": [
    "## Step 4: Raster Projection from Web Mercator to UTM WGS84 Zone47"
   ]
  },
  {
   "cell_type": "code",
   "execution_count": 6,
   "metadata": {},
   "outputs": [],
   "source": [
    "#Outfn = 'Google_Satellite.tif' #Should be Mapsheet No.\n",
    "Outfn = 'Google_Maps.tif' #Should be Mapsheet No.\n",
    "\n",
    "OutRS2 = gdal.Warp(Outfn, OutRS1, format='GTiff', dstSRS='EPSG:32647')"
   ]
  },
  {
   "cell_type": "markdown",
   "metadata": {},
   "source": [
    "## Step 5: Clip Boundary"
   ]
  },
  {
   "cell_type": "code",
   "execution_count": 7,
   "metadata": {},
   "outputs": [],
   "source": [
    "Resolution = 0.25 #Case Google Maps Change Resolution = xxxx\n",
    "#Final_fn = 'Google_Satellite_UTM.tif'\n",
    "Final_fn = 'Google_Maps_UTM.tif'\n",
    "\n",
    "x_min = UTM_Bound[0]\n",
    "y_min = UTM_Bound[1]\n",
    "x_max = UTM_Bound[2]\n",
    "y_max = UTM_Bound[3]\n",
    "    \n",
    "gdal.SetConfigOption('GDAL_HTTP_UNSAFESSL','YES')\n",
    "OutRS3 = gdal.Warp(Final_fn, OutRS2, format='GTiff',\n",
    "                   outputBounds = [x_min, y_min, x_max, y_max],\n",
    "                   xRes = Resolution, yRes = Resolution)"
   ]
  },
  {
   "cell_type": "code",
   "execution_count": 8,
   "metadata": {},
   "outputs": [],
   "source": [
    "OutRS1 = None\n",
    "OutRS2 = None\n",
    "OutRS3 = None\n",
    "\n",
    "#Delete temporary File\n",
    "if os.path.exists('GM.tif'):\n",
    "    os.remove('GM.tif')\n",
    "    \n",
    "if os.path.exists('Google_Maps.tif'):\n",
    "    os.remove('Google_Maps.tif')\n",
    "\n",
    "if os.path.exists('Google_Satellite.tif'):\n",
    "    os.remove('Google_Satellite.tif')"
   ]
  },
  {
   "cell_type": "code",
   "execution_count": null,
   "metadata": {},
   "outputs": [],
   "source": []
  }
 ],
 "metadata": {
  "kernelspec": {
   "display_name": "Python 3 (ipykernel)",
   "language": "python",
   "name": "python3"
  },
  "language_info": {
   "codemirror_mode": {
    "name": "ipython",
    "version": 3
   },
   "file_extension": ".py",
   "mimetype": "text/x-python",
   "name": "python",
   "nbconvert_exporter": "python",
   "pygments_lexer": "ipython3",
   "version": "3.8.10"
  }
 },
 "nbformat": 4,
 "nbformat_minor": 4
}
